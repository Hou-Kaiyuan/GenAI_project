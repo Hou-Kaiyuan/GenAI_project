{
 "cells": [
  {
   "cell_type": "code",
   "execution_count": 1,
   "id": "75b8a1b2",
   "metadata": {},
   "outputs": [
    {
     "data": {
      "text/plain": [
       "True"
      ]
     },
     "execution_count": 1,
     "metadata": {},
     "output_type": "execute_result"
    }
   ],
   "source": [
    "import os\n",
    "from together import Together\n",
    "from dotenv import load_dotenv\n",
    "load_dotenv()"
   ]
  },
  {
   "cell_type": "code",
   "execution_count": 2,
   "id": "16bfc1a2",
   "metadata": {},
   "outputs": [
    {
     "name": "stderr",
     "output_type": "stream",
     "text": [
      "Uploading file datasets/acc_data_2d.jsonl: 100%|██████████████████████████████████████████████████████████████████████████| 8.00M/8.00M [00:00<00:00, 8.68MB/s]\n"
     ]
    },
    {
     "name": "stdout",
     "output_type": "stream",
     "text": [
      "id='file-208f6c70-ae4e-48df-80a4-55e6df7c22bd' object=<ObjectType.File: 'file'> created_at=1732941088 type=None purpose=<FilePurpose.FineTune: 'fine-tune'> filename='datasets/acc_data_2d.jsonl' bytes=7998755 line_count=0 processed=True FileType='jsonl'\n"
     ]
    }
   ],
   "source": [
    "client = Together(api_key=os.environ.get(\"TOGETHER_API_KEY\"))\n",
    "dataset = \"datasets/acc_data_2d.jsonl\"\n",
    "response = client.files.upload(file=dataset)\n",
    "fileId = response.model_dump()[\"id\"]\n",
    "\n",
    "file_metadata = client.files.retrieve(fileId)\n",
    "print(file_metadata)\n"
   ]
  },
  {
   "cell_type": "code",
   "execution_count": 3,
   "id": "4b4a216b",
   "metadata": {},
   "outputs": [],
   "source": [
    "resp = client.fine_tuning.create(\n",
    "    suffix=\"IMU-Alphabet-lora\",\n",
    "    model='meta-llama/Meta-Llama-3.1-8B-Instruct-Reference',\n",
    "    lora = True,\n",
    "    training_file=fileId,\n",
    "    n_epochs=5,\n",
    "    batch_size=8,\n",
    "    learning_rate=1e-5,\n",
    "    wandb_api_key=os.environ.get(\"WANDB_API_KEY\"),\n",
    ")\n"
   ]
  },
  {
   "cell_type": "code",
   "execution_count": 4,
   "id": "685e69bb",
   "metadata": {},
   "outputs": [
    {
     "data": {
      "text/plain": [
       "FinetuneResponse(id='ft-68ec2206-5bbd-42a4-9bd2-4e3982db0644', training_file='file-208f6c70-ae4e-48df-80a4-55e6df7c22bd', validation_file='', model='meta-llama/Meta-Llama-3.1-8B-Instruct-Reference', output_name='kaiyuan/Meta-Llama-3.1-8B-Instruct-Reference-IMU-Alphabet-lora-c8f08b2a', adapter_output_name=None, n_epochs=5, n_checkpoints=1, n_evals=0, batch_size=8, learning_rate=1e-05, lr_scheduler=FinetuneLRScheduler(lr_scheduler_type='linear', lr_scheduler_args=FinetuneLinearLRSchedulerArgs(min_lr_ratio=0.0)), warmup_ratio=0.0, max_grad_norm=1.0, weight_decay=0.0, eval_steps=0, training_type=LoRATrainingType(type='Lora', lora_r=64, lora_alpha=128, lora_dropout=0.0, lora_trainable_modules='all-linear'), created_at='2024-11-30T04:36:30.102Z', updated_at='2024-11-30T04:36:30.102Z', status=<FinetuneJobStatus.STATUS_PENDING: 'pending'>, job_id='', events=[FinetuneEvent(object=<ObjectType.FinetuneEvent: 'fine-tune-event'>, created_at='2024-11-30T04:36:30.102Z', level=<FinetuneEventLevels.NULL: ''>, message='Fine tune request created', type=<FinetuneEventType.JOB_PENDING: 'JOB_PENDING'>, param_count=0, token_count=0, wandb_url='', hash='', eval_token_count=0, total_steps=0, step=0, checkpoint_path='', model_path='', adapter_path='', training_offset=0)], token_count=0, param_count=0, total_price=0, total_steps=0, steps_completed=0, epochs_completed=0, evals_completed=0, queue_depth=0, wandb_project_name='', wandb_url='', training_file_num_lines=0, training_file_size=7998755, train_on_inputs='auto', model_output_path='s3://together-dev/finetune/67365f21dad35be136b7fb09/kaiyuan/Meta-Llama-3.1-8B-Instruct-Reference-IMU-Alphabet-lora-c8f08b2a/ft-68ec2206-5bbd-42a4-9bd2-4e3982db0644', adapter_output_path='s3://together-dev/finetune/67365f21dad35be136b7fb09/kaiyuan/Meta-Llama-3.1-8B-Instruct-Reference-IMU-Alphabet-lora-c8f08b2a/ft-68ec2206-5bbd-42a4-9bd2-4e3982db0644_adapter', Suffix='IMU-Alphabet-lora', user_id='67365f21dad35be136b7fb09', staring_epoch=0, training_offset=0, checkspoint_path='', random_seed='', owner_address='0x9a480caa38edfe25082764d2ab4adfb0ec5ffd3d', eval_token_count=0, steps_paid_for=0, train_price=0, eval_price=0, evals_paid_for=0, enable_checkpoints=False, checkpoints=[], internal_flags='', max_steps=-1, save_steps=0, warmup_steps=0, validation_split_ratio=0, gpus_per_node=8, per_device_batch_size=0, per_device_eval_batch_size=0, gradient_accumulation_steps=1, wandb_key='247ef85050b2140c2b1ae43a1aa58e10221be1b8', wandb_base_url='', wandb_name='', UsedModelName='', job_stats={'FtUserTime': '', 'FtSysTime': '', 'FtMaxRss': 0, 'FtMinPgFlt': 0, 'FtMajPgFlt': 0, 'FtInBlock': 0, 'FtOutBlock': 0, 'FtNvCsw': 0, 'FtNivCsw': 0})"
      ]
     },
     "execution_count": 4,
     "metadata": {},
     "output_type": "execute_result"
    }
   ],
   "source": [
    "resp"
   ]
  },
  {
   "cell_type": "code",
   "execution_count": null,
   "id": "3763c0a2",
   "metadata": {},
   "outputs": [],
   "source": []
  }
 ],
 "metadata": {
  "kernelspec": {
   "display_name": "llm_ft",
   "language": "python",
   "name": "genai_project"
  },
  "language_info": {
   "codemirror_mode": {
    "name": "ipython",
    "version": 3
   },
   "file_extension": ".py",
   "mimetype": "text/x-python",
   "name": "python",
   "nbconvert_exporter": "python",
   "pygments_lexer": "ipython3",
   "version": "3.10.15"
  }
 },
 "nbformat": 4,
 "nbformat_minor": 5
}
