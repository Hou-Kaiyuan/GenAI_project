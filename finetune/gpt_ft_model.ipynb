{
 "cells": [
  {
   "cell_type": "code",
   "execution_count": 1,
   "id": "bd5aa84a",
   "metadata": {},
   "outputs": [],
   "source": [
    "# {\"messages\": [{\"role\": \"system\", \"content\": \"Marv is a factual chatbot that is also sarcastic.\"}, {\"role\": \"user\", \"content\": \"What's the capital of France?\"}, {\"role\": \"assistant\", \"content\": \"Paris, as if everyone doesn't know that already.\"}]}\n",
    "# {\"messages\": [{\"role\": \"system\", \"content\": \"Marv is a factual chatbot that is also sarcastic.\"}, {\"role\": \"user\", \"content\": \"Who wrote 'Romeo and Juliet'?\"}, {\"role\": \"assistant\", \"content\": \"Oh, just some guy named William Shakespeare. Ever heard of him?\"}]}\n",
    "# {\"messages\": [{\"role\": \"system\", \"content\": \"Marv is a factual chatbot that is also sarcastic.\"}, {\"role\": \"user\", \"content\": \"How far is the Moon from Earth?\"}, {\"role\": \"assistant\", \"content\": \"Around 384,400 kilometers. Give or take a few, like that really matters.\"}]}"
   ]
  },
  {
   "cell_type": "code",
   "execution_count": 1,
   "id": "26e16f81",
   "metadata": {},
   "outputs": [],
   "source": [
    "import os\n",
    "import json"
   ]
  },
  {
   "cell_type": "code",
   "execution_count": 3,
   "id": "eccbd2c3",
   "metadata": {},
   "outputs": [],
   "source": [
    "dataset_path = \"instruction_dataset/acc_data/2d\"\n",
    "new_file_path = f\"datasets/acc_data_2d_gpt.jsonl\"\n",
    "train_data = []"
   ]
  },
  {
   "cell_type": "code",
   "execution_count": 4,
   "id": "6d05605f",
   "metadata": {},
   "outputs": [],
   "source": [
    "llama_format = \"\"\"\n",
    "<|begin_of_text|><|start_header_id|>system<|end_header_id|>\n",
    "{system_prompt}<|eot_id|><|start_header_id|>user<|end_header_id|>\n",
    "{user_question}<|eot_id|><|start_header_id|>assistant<|end_header_id|>\n",
    "{model_answer}<|eot_id|>\n",
    "\"\"\""
   ]
  },
  {
   "cell_type": "code",
   "execution_count": 7,
   "id": "c56d7549",
   "metadata": {},
   "outputs": [
    {
     "name": "stdout",
     "output_type": "stream",
     "text": [
      "Loaded 265 JSON files.\n"
     ]
    }
   ],
   "source": [
    "for root, dirs, files in os.walk(dataset_path):\n",
    "    for file_name in files:\n",
    "        if file_name.endswith(\".json\"):\n",
    "            file_path = os.path.join(root, file_name)\n",
    "            with open(file_path, 'r') as json_file:\n",
    "                try:\n",
    "                    data = json.load(json_file)\n",
    "                    train_data.append(data)  \n",
    "                except json.JSONDecodeError as e:\n",
    "                    print(f\"Error decoding JSON from file {file_path}: {e}\")\n",
    "\n",
    "print(f\"Loaded {len(train_data)} JSON files.\")"
   ]
  },
  {
   "cell_type": "code",
   "execution_count": 8,
   "id": "b9b6fa44",
   "metadata": {},
   "outputs": [
    {
     "name": "stdout",
     "output_type": "stream",
     "text": [
      "Converted data saved to datasets/acc_data_2d_gpt.jsonl.\n"
     ]
    }
   ],
   "source": [
    "with open(new_file_path, \"w\", encoding=\"utf-8\") as new_file:\n",
    "    for piece in train_data:\n",
    "        for trial in piece:\n",
    "            gpt_format = {\n",
    "                \"messages\": [\n",
    "                    {\"role\": \"system\", \"content\": trial[\"instruction\"]},\n",
    "                    {\"role\": \"user\", \"content\": trial[\"input\"]},\n",
    "                    {\"role\": \"assistant\", \"content\": trial[\"output\"]}\n",
    "                ]\n",
    "            }\n",
    "            new_file.write(json.dumps(gpt_format))\n",
    "            new_file.write(\"\\n\")\n",
    "\n",
    "print(f\"Converted data saved to {new_file_path}.\")"
   ]
  },
  {
   "cell_type": "code",
   "execution_count": 2,
   "id": "0566e0bd",
   "metadata": {},
   "outputs": [
    {
     "data": {
      "text/plain": [
       "True"
      ]
     },
     "execution_count": 2,
     "metadata": {},
     "output_type": "execute_result"
    }
   ],
   "source": [
    "from dotenv import load_dotenv\n",
    "load_dotenv()"
   ]
  },
  {
   "cell_type": "code",
   "execution_count": 10,
   "id": "9ebdf31b",
   "metadata": {},
   "outputs": [
    {
     "data": {
      "text/plain": [
       "FileObject(id='file-DVC33bkDoKd7dVvqA3qGuZ', bytes=7938335, created_at=1733255442, filename='datasets/acc_data_2d_gpt.jsonl', object='file', purpose='fine-tune', status='processed', status_details=None)"
      ]
     },
     "execution_count": 10,
     "metadata": {},
     "output_type": "execute_result"
    }
   ],
   "source": [
    "from openai import OpenAI\n",
    "client = OpenAI()\n",
    "\n",
    "client.files.create(\n",
    "  file=open(new_file_path, \"rb\"),\n",
    "  purpose=\"fine-tune\"\n",
    ")"
   ]
  },
  {
   "cell_type": "code",
   "execution_count": 11,
   "id": "81dcef2e",
   "metadata": {},
   "outputs": [
    {
     "data": {
      "text/plain": [
       "FineTuningJob(id='ftjob-DIh9osS0eSzOM4RDmdSahX5E', created_at=1733256031, error=Error(code=None, message=None, param=None), fine_tuned_model=None, finished_at=None, hyperparameters=Hyperparameters(n_epochs=2, batch_size='auto', learning_rate_multiplier='auto'), model='gpt-4o-2024-08-06', object='fine_tuning.job', organization_id='org-bejkEelMUYAOQ31IkgcGQPTr', result_files=[], seed=325651572, status='validating_files', trained_tokens=None, training_file='file-DVC33bkDoKd7dVvqA3qGuZ', validation_file=None, estimated_finish=None, integrations=[], user_provided_suffix=None)"
      ]
     },
     "execution_count": 11,
     "metadata": {},
     "output_type": "execute_result"
    }
   ],
   "source": [
    "client.fine_tuning.jobs.create(\n",
    "  training_file=\"file-DVC33bkDoKd7dVvqA3qGuZ\",\n",
    "  model=\"gpt-4o-2024-08-06\",\n",
    "  hyperparameters={\n",
    "    \"n_epochs\":2\n",
    "  }\n",
    ")"
   ]
  },
  {
   "cell_type": "code",
   "execution_count": 53,
   "id": "27818811",
   "metadata": {},
   "outputs": [
    {
     "data": {
      "text/plain": [
       "'ft:gpt-4o-2024-08-06:personal::AaUNbC4p'"
      ]
     },
     "execution_count": 53,
     "metadata": {},
     "output_type": "execute_result"
    }
   ],
   "source": [
    "client.fine_tuning.jobs.retrieve(\"ftjob-DIh9osS0eSzOM4RDmdSahX5E\").fine_tuned_model\n"
   ]
  },
  {
   "cell_type": "code",
   "execution_count": 4,
   "id": "82c41353",
   "metadata": {},
   "outputs": [
    {
     "data": {
      "text/plain": [
       "'The job has successfully completed'"
      ]
     },
     "execution_count": 4,
     "metadata": {},
     "output_type": "execute_result"
    }
   ],
   "source": [
    "from openai import OpenAI\n",
    "client = OpenAI()\n",
    "client.fine_tuning.jobs.list_events(fine_tuning_job_id=\"ftjob-DIh9osS0eSzOM4RDmdSahX5E\", limit=10).data[0].message\n"
   ]
  },
  {
   "cell_type": "code",
   "execution_count": 27,
   "id": "fd4bb882",
   "metadata": {},
   "outputs": [],
   "source": [
    "train_loss = []\n",
    "log = client.fine_tuning.jobs.list_events(fine_tuning_job_id=\"ftjob-DIh9osS0eSzOM4RDmdSahX5E\", limit=1600)\n",
    "for i in range(1600):\n",
    "    try:\n",
    "        info = log.data[i].message\n",
    "    except:\n",
    "        break\n",
    "    if '1590' in info:\n",
    "        train_loss.append(float(info.split('=')[-1]))\n",
    "        "
   ]
  },
  {
   "cell_type": "code",
   "execution_count": 31,
   "id": "a515950a",
   "metadata": {},
   "outputs": [
    {
     "data": {
      "text/plain": [
       "1.1"
      ]
     },
     "execution_count": 31,
     "metadata": {},
     "output_type": "execute_result"
    }
   ],
   "source": [
    "train_loss.reverse()"
   ]
  },
  {
   "cell_type": "code",
   "execution_count": 32,
   "id": "ba9c5d7d",
   "metadata": {},
   "outputs": [],
   "source": [
    "import csv\n",
    "\n",
    "data = zip(range(len(train_loss)), train_loss)\n",
    "\n",
    "# Save to CSV\n",
    "with open('gpt_ft_loss.csv', 'w', newline='') as file:\n",
    "    writer = csv.writer(file)\n",
    "    writer.writerow(['epoch', 'loss'])  # Write header\n",
    "    writer.writerows(data)             # Write data rows\n"
   ]
  },
  {
   "cell_type": "code",
   "execution_count": null,
   "id": "f2651ddc",
   "metadata": {},
   "outputs": [],
   "source": [
    "## suffix can be found in by after training is completed\n",
    "model = client.fine_tuning.jobs.retrieve(\"ftjob-DIh9osS0eSzOM4RDmdSahX5E\").fine_tuned_model"
   ]
  },
  {
   "cell_type": "code",
   "execution_count": null,
   "id": "48c74a1a",
   "metadata": {},
   "outputs": [],
   "source": []
  },
  {
   "cell_type": "code",
   "execution_count": null,
   "id": "c5b4fca1",
   "metadata": {},
   "outputs": [],
   "source": []
  }
 ],
 "metadata": {
  "kernelspec": {
   "display_name": "llm_ft",
   "language": "python",
   "name": "genai_project"
  },
  "language_info": {
   "codemirror_mode": {
    "name": "ipython",
    "version": 3
   },
   "file_extension": ".py",
   "mimetype": "text/x-python",
   "name": "python",
   "nbconvert_exporter": "python",
   "pygments_lexer": "ipython3",
   "version": "3.10.15"
  }
 },
 "nbformat": 4,
 "nbformat_minor": 5
}
